{
 "cells": [
  {
   "cell_type": "markdown",
   "metadata": {},
   "source": [
    "# Feature Engineering"
   ]
  },
  {
   "cell_type": "code",
   "execution_count": 6,
   "metadata": {
    "collapsed": true
   },
   "outputs": [],
   "source": [
    "import pandas as pd\n",
    "import numpy as np\n",
    "import time\n",
    "from sklearn.preprocessing import LabelEncoder\n",
    "from datetime import datetime"
   ]
  },
  {
   "cell_type": "code",
   "execution_count": 23,
   "metadata": {
    "collapsed": true
   },
   "outputs": [],
   "source": [
    "class MercariFeatureEngineering(object):\n",
    "    \n",
    "    def __init__(self, filepath, delimiter=','):\n",
    "        self.df = pd.read_csv(filepath, delimiter=delimiter)\n",
    "        #self.stop_words = set(stopwords.words('english'))\n",
    "        self.alphabet = set(['a', 'b', 'c', 'd', 'e', 'f', 'g', 'h', 'i', 'j',\n",
    "                             'k', 'l', 'm', 'n', 'o', 'p', 'q', 'r', 's', 't',\n",
    "                             'u', 'v', 'w', 'x', 'y', 'z'])\n",
    "        self.rf = None\n",
    "    \n",
    "    def fill_na(self, column_name, new_col, fill_with):\n",
    "        self.df[new_col] = self.df[column_name].isnull().astype(int)\n",
    "        self.df[column_name] = self.df[column_name].fillna(fill_with)\n",
    "    \n",
    "    def split_categories(self, column_name, split_on):\n",
    "        top, middle, bottom = [], [], []\n",
    "        for i, row in self.df.iterrows():\n",
    "            hierarchy_string = row[column_name]\n",
    "            hierarchy_list = hierarchy_string.split(split_on)\n",
    "            top.append(hierarchy_list[0])\n",
    "            middle.append(hierarchy_list[1])\n",
    "            bottom.append(hierarchy_list[2])\n",
    "        self.df['cat_top'] = top\n",
    "        self.df['cat_mid'] = middle\n",
    "        self.df['cat_bot'] = bottom\n",
    "    \n",
    "    def clean_column(self, brand_name):\n",
    "        word = brand_name.lower()\n",
    "        word = ''.join([letter for letter in word if letter in self.alphabet])\n",
    "        return word\n",
    "    \n",
    "    def drop_rows_with_value(self, column, value):\n",
    "        self.df = self.df[self.df[column] != value]\n",
    "    \n",
    "    def apply_func(self, new_name, from_col, func):\n",
    "        self.df[new_name] = self.df[from_col].apply(lambda x: func(x))\n",
    "    \n",
    "    def create_categorical_labels(self, column_name, new_col):\n",
    "        self.df[new_col] = LabelEncoder().fit_transform(self.df[column_name])\n",
    "    \n",
    "    def engineer_features(self):\n",
    "        if 'price' in self.df.columns:\n",
    "            self.drop_rows_with_value('price', 0)\n",
    "        self.fill_na('category_name', 'cat_Was_null', 'None/None/None')\n",
    "        self.fill_na('brand_name', 'brand_was_null', 'no_label')\n",
    "        self.fill_na('item_description', 'desc_was_null', 'No description')\n",
    "        print ('All Nulls Filled, New Binary Columns Created!')\n",
    "        self.split_categories('category_name', '/')\n",
    "        print('Categories Split!')\n",
    "        self.apply_func('brand_name', 'brand_name', self.clean_column)\n",
    "        self.apply_func('category_top', 'cat_top', self.clean_column)\n",
    "        self.apply_func('category_middle', 'cat_mid', self.clean_column)\n",
    "        self.apply_func('category_bottom', 'cat_bot', self.clean_column)\n",
    "        print('Cleaned Columns')\n",
    "        self.create_categorical_labels('brand_name', 'brand_numeric')\n",
    "        self.create_categorical_labels('cat_top', 'cat_top_numeric')\n",
    "        self.create_categorical_labels('cat_mid', 'cat_mid_numeric')\n",
    "        self.create_categorical_labels('cat_bot', 'cat_bot_numeric')\n",
    "        print('Created Categorical Labels')\n",
    "        "
   ]
  },
  {
   "cell_type": "code",
   "execution_count": 21,
   "metadata": {},
   "outputs": [
    {
     "name": "stdout",
     "output_type": "stream",
     "text": [
      "All Nulls Filled, New Binary Columns Created!\n",
      "Categories Split!\n",
      "Cleaned Columns\n",
      "0:01:59.600541\n"
     ]
    }
   ],
   "source": [
    "start = datetime.now()\n",
    "train = MercariFeatureEngineering('data/train.tsv', delimiter='\\t')\n",
    "train.engineer_features()\n",
    "end = datetime.now()\n",
    "print end - start"
   ]
  },
  {
   "cell_type": "code",
   "execution_count": 17,
   "metadata": {},
   "outputs": [],
   "source": []
  },
  {
   "cell_type": "code",
   "execution_count": null,
   "metadata": {
    "collapsed": true
   },
   "outputs": [],
   "source": []
  }
 ],
 "metadata": {
  "kernelspec": {
   "display_name": "Python 2",
   "language": "python",
   "name": "python2"
  },
  "language_info": {
   "codemirror_mode": {
    "name": "ipython",
    "version": 2
   },
   "file_extension": ".py",
   "mimetype": "text/x-python",
   "name": "python",
   "nbconvert_exporter": "python",
   "pygments_lexer": "ipython2",
   "version": "2.7.13"
  }
 },
 "nbformat": 4,
 "nbformat_minor": 2
}
